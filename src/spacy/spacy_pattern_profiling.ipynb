{
 "cells": [
  {
   "cell_type": "code",
   "execution_count": 1,
   "id": "bf35fc4f-297a-496a-8c77-dcd4e9c17ea1",
   "metadata": {},
   "outputs": [],
   "source": [
    "from pyarrow.parquet import ParquetFile\n",
    "import pyarrow as pa \n",
    "\n",
    "ROWS_COUNT = 1_000\n",
    "\n",
    "INPUT_DATA = \"./resources/train-00000-of-00001.parquet\"\n",
    "\n",
    "pf = ParquetFile(INPUT_DATA) \n",
    "parquet_rows = next(pf.iter_batches(batch_size = ROWS_COUNT))\n",
    "\n",
    "data_df = pa.Table.from_batches([parquet_rows]).to_pandas() "
   ]
  },
  {
   "cell_type": "code",
   "execution_count": 2,
   "id": "2f627448-a8f7-496c-b578-424276890580",
   "metadata": {},
   "outputs": [
    {
     "data": {
      "text/html": [
       "<div>\n",
       "<style scoped>\n",
       "    .dataframe tbody tr th:only-of-type {\n",
       "        vertical-align: middle;\n",
       "    }\n",
       "\n",
       "    .dataframe tbody tr th {\n",
       "        vertical-align: top;\n",
       "    }\n",
       "\n",
       "    .dataframe thead th {\n",
       "        text-align: right;\n",
       "    }\n",
       "</style>\n",
       "<table border=\"1\" class=\"dataframe\">\n",
       "  <thead>\n",
       "    <tr style=\"text-align: right;\">\n",
       "      <th></th>\n",
       "      <th>label</th>\n",
       "      <th>text</th>\n",
       "    </tr>\n",
       "  </thead>\n",
       "  <tbody>\n",
       "    <tr>\n",
       "      <th>0</th>\n",
       "      <td>4</td>\n",
       "      <td>dr. goldberg offers everything i look for in a...</td>\n",
       "    </tr>\n",
       "    <tr>\n",
       "      <th>1</th>\n",
       "      <td>1</td>\n",
       "      <td>Unfortunately, the frustration of being Dr. Go...</td>\n",
       "    </tr>\n",
       "    <tr>\n",
       "      <th>2</th>\n",
       "      <td>3</td>\n",
       "      <td>Been going to Dr. Goldberg for over 10 years. ...</td>\n",
       "    </tr>\n",
       "    <tr>\n",
       "      <th>3</th>\n",
       "      <td>3</td>\n",
       "      <td>Got a letter in the mail last week that said D...</td>\n",
       "    </tr>\n",
       "    <tr>\n",
       "      <th>4</th>\n",
       "      <td>0</td>\n",
       "      <td>I don't know what Dr. Goldberg was like before...</td>\n",
       "    </tr>\n",
       "  </tbody>\n",
       "</table>\n",
       "</div>"
      ],
      "text/plain": [
       "   label                                               text\n",
       "0      4  dr. goldberg offers everything i look for in a...\n",
       "1      1  Unfortunately, the frustration of being Dr. Go...\n",
       "2      3  Been going to Dr. Goldberg for over 10 years. ...\n",
       "3      3  Got a letter in the mail last week that said D...\n",
       "4      0  I don't know what Dr. Goldberg was like before..."
      ]
     },
     "execution_count": 2,
     "metadata": {},
     "output_type": "execute_result"
    }
   ],
   "source": [
    "data_df.head()"
   ]
  },
  {
   "cell_type": "code",
   "execution_count": 3,
   "id": "1882f340-d208-4d7b-9b42-c2105f8acdb4",
   "metadata": {},
   "outputs": [],
   "source": [
    "# huge_document = \" \".join(data_df['text'].values)"
   ]
  },
  {
   "cell_type": "code",
   "execution_count": 4,
   "id": "cc6f4707-bb33-4961-aec5-cebf7d9024f9",
   "metadata": {},
   "outputs": [],
   "source": [
    "import spacy\n",
    "\n",
    "PATTERNS = [\n",
    "    {\n",
    "        \"label\":\"A_WORD\",\n",
    "        \"pattern\":[\n",
    "            {\"LOWER\": {\"REGEX\": r\"^[a][a-z]{2,}\"}},\n",
    "        ]\n",
    "    },\n",
    "    {\n",
    "        \"label\":\"T_WORD\",\n",
    "        \"pattern\":[\n",
    "            {\"LOWER\": {\"REGEX\": r\"^[t][a-z]{3,}\"}},\n",
    "        ]\n",
    "    }\n",
    "]"
   ]
  },
  {
   "cell_type": "code",
   "execution_count": 5,
   "id": "d0d7cd56-2b61-47ba-9338-69b1ecdff1df",
   "metadata": {},
   "outputs": [],
   "source": [
    "# Setup\n",
    "\n",
    "TEXTS = data_df['text'].values\n",
    "\n",
    "nlp_blank = spacy.blank(\"en\")\n",
    "nlp_blank.max_length = 8_000_000\n",
    "nlp_blank_ruler = nlp_blank.add_pipe(\"entity_ruler\")\n",
    "nlp_blank_ruler.add_patterns(PATTERNS)\n",
    "\n",
    "nlp_sm = spacy.load(\"en_core_web_sm\")\n",
    "nlp_sm.max_length = 8_000_000\n",
    "nlp_sm_ruler = nlp_sm.add_pipe(\"entity_ruler\")\n",
    "nlp_sm_ruler.add_patterns(PATTERNS)\n",
    "\n",
    "nlp_md = spacy.load(\"en_core_web_md\")\n",
    "nlp_md.max_lengqth = 8_000_000\n",
    "nlp_md_ruler = nlp_md.add_pipe(\"entity_ruler\")\n",
    "nlp_md_ruler.add_patterns(PATTERNS)\n"
   ]
  },
  {
   "cell_type": "code",
   "execution_count": 6,
   "id": "4c1edc6c-29e1-4683-a7d2-c9d6fe3ad303",
   "metadata": {},
   "outputs": [
    {
     "name": "stdout",
     "output_type": "stream",
     "text": [
      "CPU times: user 1.28 s, sys: 32 ms, total: 1.31 s\n",
      "Wall time: 1.31 s\n"
     ]
    }
   ],
   "source": [
    "%%time\n",
    "\n",
    "# Blank\n",
    "nlp_blank_docs = list(nlp_blank.pipe(TEXTS))"
   ]
  },
  {
   "cell_type": "code",
   "execution_count": 7,
   "id": "0acac1a7-7938-4700-aef6-f953b1f9fe47",
   "metadata": {},
   "outputs": [
    {
     "name": "stdout",
     "output_type": "stream",
     "text": [
      "CPU times: user 1.1 s, sys: 124 ms, total: 1.23 s\n",
      "Wall time: 2.94 s\n"
     ]
    }
   ],
   "source": [
    "%%time\n",
    "\n",
    "# Blank pipe 4 process\n",
    "nlp_blank_docs = list(nlp_blank.pipe(TEXTS, n_process=4))"
   ]
  },
  {
   "cell_type": "code",
   "execution_count": 8,
   "id": "d322e34e-adf2-444a-99df-db46f5f17eda",
   "metadata": {},
   "outputs": [
    {
     "name": "stdout",
     "output_type": "stream",
     "text": [
      "CPU times: user 10.9 s, sys: 547 ms, total: 11.5 s\n",
      "Wall time: 11.5 s\n"
     ]
    }
   ],
   "source": [
    "%%time\n",
    "\n",
    "# SM\n",
    "nlp_sm_docs = list(nlp_sm.pipe(TEXTS))"
   ]
  },
  {
   "cell_type": "code",
   "execution_count": 9,
   "id": "cbe1dd21-8068-4d07-8dff-ad2bd580d746",
   "metadata": {},
   "outputs": [
    {
     "name": "stdout",
     "output_type": "stream",
     "text": [
      "CPU times: user 835 ms, sys: 132 ms, total: 967 ms\n",
      "Wall time: 6.95 s\n"
     ]
    }
   ],
   "source": [
    "%%time\n",
    "\n",
    "# SM pipe 4 process\n",
    "nlp_sm_docs = list(nlp_sm.pipe(TEXTS, n_process=4))"
   ]
  },
  {
   "cell_type": "code",
   "execution_count": 10,
   "id": "0f0d8e8e-685e-4b1b-9968-f50503b36b36",
   "metadata": {},
   "outputs": [
    {
     "name": "stdout",
     "output_type": "stream",
     "text": [
      "CPU times: user 11.5 s, sys: 212 ms, total: 11.7 s\n",
      "Wall time: 11.7 s\n"
     ]
    }
   ],
   "source": [
    "%%time\n",
    "\n",
    "# MD\n",
    "nlp_md_docs = list(nlp_md.pipe(TEXTS))"
   ]
  },
  {
   "cell_type": "code",
   "execution_count": 11,
   "id": "dc336472-d940-4650-9548-0796d832c359",
   "metadata": {},
   "outputs": [
    {
     "name": "stdout",
     "output_type": "stream",
     "text": [
      "CPU times: user 863 ms, sys: 124 ms, total: 987 ms\n",
      "Wall time: 7.61 s\n"
     ]
    }
   ],
   "source": [
    "%%time\n",
    "\n",
    "# MD pipe 4 process\n",
    "nlp_md_docs = list(nlp_md.pipe(TEXTS, n_process=4))"
   ]
  },
  {
   "cell_type": "code",
   "execution_count": 12,
   "id": "2102f8b3-e48e-4616-ab3a-40ec6f1f959b",
   "metadata": {},
   "outputs": [
    {
     "name": "stdout",
     "output_type": "stream",
     "text": [
      "blank_ents_count: 19605\n",
      "sm_ents_count: 24419\n",
      "md_ents_count: 24636\n"
     ]
    }
   ],
   "source": [
    "def count_ents(docs):\n",
    "    ents_count = 0\n",
    "    for doc in docs:\n",
    "        ents_count += len(doc.ents)\n",
    "    return ents_count\n",
    "\n",
    "blank_ents_count = count_ents(nlp_blank_docs)\n",
    "print(f\"blank_ents_count: {blank_ents_count}\")\n",
    "\n",
    "sm_ents_count = count_ents(nlp_sm_docs)\n",
    "print(f\"sm_ents_count: {sm_ents_count}\")\n",
    "\n",
    "md_ents_count = count_ents(nlp_md_docs)\n",
    "print(f\"md_ents_count: {md_ents_count}\")"
   ]
  },
  {
   "cell_type": "markdown",
   "id": "ad643fdf-4a46-4012-bdf9-fef13c699e3a",
   "metadata": {},
   "source": [
    "**Tech specs**  \n",
    "CPU: AMD Ryzen 7 5800H (8 cores / 16 virtual cores)  \n",
    "GPU: absent  \n",
    "\n",
    "**Data**  \n",
    "1_000 small text documents  \n",
    "\n",
    "\n",
    "**Results**\n",
    "\n",
    "```\n",
    "===================================================================\n",
    "| MODEL | Single threaded | Multi threaded (4 threads) | Entities |\n",
    "|=======|=================|============================|==========|\n",
    "| Blank | 1.3 sec         | 2.9 sec                    | 19605    |\n",
    "| SM    | 11.5 sec        | 6.9 sec                    | 24419    |\n",
    "| MD    | 11.7 sec        | 7.61 sec                   | 24636    |\n",
    "===================================================================\n",
    "```"
   ]
  }
 ],
 "metadata": {
  "kernelspec": {
   "display_name": "Python 3 (ipykernel)",
   "language": "python",
   "name": "python3"
  },
  "language_info": {
   "codemirror_mode": {
    "name": "ipython",
    "version": 3
   },
   "file_extension": ".py",
   "mimetype": "text/x-python",
   "name": "python",
   "nbconvert_exporter": "python",
   "pygments_lexer": "ipython3",
   "version": "3.10.12"
  }
 },
 "nbformat": 4,
 "nbformat_minor": 5
}
