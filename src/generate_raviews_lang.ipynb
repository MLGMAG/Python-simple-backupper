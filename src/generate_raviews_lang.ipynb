{
 "cells": [
  {
   "cell_type": "code",
   "execution_count": 3,
   "id": "5f588872-3bb8-4778-afa1-6f44bfca451e",
   "metadata": {},
   "outputs": [],
   "source": [
    "import pandas as pd\n",
    "\n",
    "REVIEWS_FILE = 'reviews.jsonlines'\n",
    "\n",
    "reviews = pd.read_json(REVIEWS_FILE, lines=True)"
   ]
  },
  {
   "cell_type": "code",
   "execution_count": 4,
   "id": "43f3ccaa-3848-4ca4-99bf-75f15a87fdf2",
   "metadata": {},
   "outputs": [
    {
     "name": "stdout",
     "output_type": "stream",
     "text": [
      "Defaulting to user installation because normal site-packages is not writeable\n",
      "Requirement already satisfied: fasttext-langdetect in /home/mlgmag/.local/lib/python3.10/site-packages (1.0.5)\n",
      "Requirement already satisfied: fasttext>=0.9.1 in /home/mlgmag/.local/lib/python3.10/site-packages (from fasttext-langdetect) (0.9.2)\n",
      "Requirement already satisfied: requests>=2.22.0 in /home/mlgmag/.local/lib/python3.10/site-packages (from fasttext-langdetect) (2.31.0)\n",
      "Requirement already satisfied: pybind11>=2.2 in /home/mlgmag/.local/lib/python3.10/site-packages (from fasttext>=0.9.1->fasttext-langdetect) (2.11.1)\n",
      "Requirement already satisfied: setuptools>=0.7.0 in /home/mlgmag/.local/lib/python3.10/site-packages (from fasttext>=0.9.1->fasttext-langdetect) (69.1.1)\n",
      "Requirement already satisfied: numpy in /home/mlgmag/.local/lib/python3.10/site-packages (from fasttext>=0.9.1->fasttext-langdetect) (1.23.5)\n",
      "Requirement already satisfied: charset-normalizer<4,>=2 in /home/mlgmag/.local/lib/python3.10/site-packages (from requests>=2.22.0->fasttext-langdetect) (3.3.2)\n",
      "Requirement already satisfied: idna<4,>=2.5 in /home/mlgmag/.local/lib/python3.10/site-packages (from requests>=2.22.0->fasttext-langdetect) (2.10)\n",
      "Requirement already satisfied: urllib3<3,>=1.21.1 in /home/mlgmag/.local/lib/python3.10/site-packages (from requests>=2.22.0->fasttext-langdetect) (1.26.5)\n",
      "Requirement already satisfied: certifi>=2017.4.17 in /home/mlgmag/.local/lib/python3.10/site-packages (from requests>=2.22.0->fasttext-langdetect) (2023.11.17)\n"
     ]
    }
   ],
   "source": [
    "!pip install fasttext-langdetect"
   ]
  },
  {
   "cell_type": "code",
   "execution_count": 5,
   "id": "f9693798-46a8-4bca-9222-3edbb6f1cf3d",
   "metadata": {},
   "outputs": [],
   "source": [
    "# Detect language\n",
    "\n",
    "from ftlangdetect import detect\n",
    "import string\n",
    "\n",
    "def sanitize_text(text):\n",
    "    return text.replace('\\n', ' ')\n",
    "\n",
    "def get_lang(line):\n",
    "    sanitized_line = sanitize_text(line) \n",
    "    return detect(sanitized_line, low_memory=True)['lang']"
   ]
  },
  {
   "cell_type": "code",
   "execution_count": 9,
   "id": "86af3e95-7a58-4074-9840-3574117c4831",
   "metadata": {},
   "outputs": [],
   "source": [
    "lang_column = reviews['review'].apply(get_lang)\n",
    "reviews_lang_df = reviews.assign(lang = lang_column)\n",
    "reviews_lang_json_lines = reviews_lang_df.to_json(orient='records', lines=True, force_ascii=False)"
   ]
  },
  {
   "cell_type": "code",
   "execution_count": 13,
   "id": "7089a08d-ad87-48c7-8b94-20839d70e6e8",
   "metadata": {},
   "outputs": [],
   "source": [
    "OUTPUT_FILE_PATH = \"./reviews_lang.jsonlines\"\n",
    "\n",
    "with open(OUTPUT_FILE_PATH, \"w\") as f:\n",
    "    f.write(reviews_lang_json_lines)"
   ]
  }
 ],
 "metadata": {
  "kernelspec": {
   "display_name": "Python 3 (ipykernel)",
   "language": "python",
   "name": "python3"
  },
  "language_info": {
   "codemirror_mode": {
    "name": "ipython",
    "version": 3
   },
   "file_extension": ".py",
   "mimetype": "text/x-python",
   "name": "python",
   "nbconvert_exporter": "python",
   "pygments_lexer": "ipython3",
   "version": "3.10.12"
  }
 },
 "nbformat": 4,
 "nbformat_minor": 5
}
