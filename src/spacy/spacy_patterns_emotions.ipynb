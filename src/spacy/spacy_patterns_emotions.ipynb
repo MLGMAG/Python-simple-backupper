{
 "cells": [
  {
   "cell_type": "code",
   "execution_count": 1,
   "id": "4f99dff3-9567-43c0-bb3d-717a521850ea",
   "metadata": {},
   "outputs": [],
   "source": [
    "from pyarrow.parquet import ParquetFile\n",
    "import pyarrow as pa \n",
    "\n",
    "ROWS_COUNT = 10_000\n",
    "\n",
    "INPUT_DATA = \"./resources/train-00000-of-00001.parquet\"\n",
    "\n",
    "pf = ParquetFile(INPUT_DATA) \n",
    "parquet_rows = next(pf.iter_batches(batch_size = ROWS_COUNT))\n",
    "\n",
    "data_df = pa.Table.from_batches([parquet_rows]).to_pandas() "
   ]
  },
  {
   "cell_type": "code",
   "execution_count": 2,
   "id": "93c817e6-ad38-4f80-a388-eaa0c5384e4e",
   "metadata": {},
   "outputs": [
    {
     "data": {
      "text/html": [
       "<div>\n",
       "<style scoped>\n",
       "    .dataframe tbody tr th:only-of-type {\n",
       "        vertical-align: middle;\n",
       "    }\n",
       "\n",
       "    .dataframe tbody tr th {\n",
       "        vertical-align: top;\n",
       "    }\n",
       "\n",
       "    .dataframe thead th {\n",
       "        text-align: right;\n",
       "    }\n",
       "</style>\n",
       "<table border=\"1\" class=\"dataframe\">\n",
       "  <thead>\n",
       "    <tr style=\"text-align: right;\">\n",
       "      <th></th>\n",
       "      <th>label</th>\n",
       "      <th>text</th>\n",
       "    </tr>\n",
       "  </thead>\n",
       "  <tbody>\n",
       "    <tr>\n",
       "      <th>0</th>\n",
       "      <td>4</td>\n",
       "      <td>dr. goldberg offers everything i look for in a...</td>\n",
       "    </tr>\n",
       "    <tr>\n",
       "      <th>1</th>\n",
       "      <td>1</td>\n",
       "      <td>Unfortunately, the frustration of being Dr. Go...</td>\n",
       "    </tr>\n",
       "    <tr>\n",
       "      <th>2</th>\n",
       "      <td>3</td>\n",
       "      <td>Been going to Dr. Goldberg for over 10 years. ...</td>\n",
       "    </tr>\n",
       "    <tr>\n",
       "      <th>3</th>\n",
       "      <td>3</td>\n",
       "      <td>Got a letter in the mail last week that said D...</td>\n",
       "    </tr>\n",
       "    <tr>\n",
       "      <th>4</th>\n",
       "      <td>0</td>\n",
       "      <td>I don't know what Dr. Goldberg was like before...</td>\n",
       "    </tr>\n",
       "  </tbody>\n",
       "</table>\n",
       "</div>"
      ],
      "text/plain": [
       "   label                                               text\n",
       "0      4  dr. goldberg offers everything i look for in a...\n",
       "1      1  Unfortunately, the frustration of being Dr. Go...\n",
       "2      3  Been going to Dr. Goldberg for over 10 years. ...\n",
       "3      3  Got a letter in the mail last week that said D...\n",
       "4      0  I don't know what Dr. Goldberg was like before..."
      ]
     },
     "execution_count": 2,
     "metadata": {},
     "output_type": "execute_result"
    }
   ],
   "source": [
    "data_df.head()"
   ]
  },
  {
   "cell_type": "code",
   "execution_count": 3,
   "id": "d23cbd86-653a-4801-9aae-8c8e41949a00",
   "metadata": {},
   "outputs": [
    {
     "data": {
      "text/html": [
       "<span class=\"tex2jax_ignore\"><div class=\"entities\" style=\"line-height: 2.5; direction: ltr\">Got a letter as in the mail last week \n",
       "<mark class=\"entity\" style=\"background: #ddd; padding: 0.45em 0.6em; margin: 0 0.25em; line-height: 1; border-radius: 0.35em;\">\n",
       "    so\n",
       "    <span style=\"font-size: 0.8em; font-weight: bold; line-height: 1; border-radius: 0.35em; vertical-align: middle; margin-left: 0.5rem\">EMOTION_WORD</span>\n",
       "</mark>\n",
       " that said Dr. Goldberg is moving to Arizona to take a new position there in June. He will be missed \n",
       "<mark class=\"entity\" style=\"background: #ddd; padding: 0.45em 0.6em; margin: 0 0.25em; line-height: 1; border-radius: 0.35em;\">\n",
       "    very\n",
       "    <span style=\"font-size: 0.8em; font-weight: bold; line-height: 1; border-radius: 0.35em; vertical-align: middle; margin-left: 0.5rem\">EMOTION_WORD</span>\n",
       "</mark>\n",
       " \n",
       "<mark class=\"entity\" style=\"background: #ddd; padding: 0.45em 0.6em; margin: 0 0.25em; line-height: 1; border-radius: 0.35em;\">\n",
       "    much\n",
       "    <span style=\"font-size: 0.8em; font-weight: bold; line-height: 1; border-radius: 0.35em; vertical-align: middle; margin-left: 0.5rem\">EMOTION_WORD</span>\n",
       "</mark>\n",
       ". <br><br>I think finding a new doctor in NYC that you actually like might almost be as awful as trying to find a date!</div></span>"
      ],
      "text/plain": [
       "<IPython.core.display.HTML object>"
      ]
     },
     "metadata": {},
     "output_type": "display_data"
    }
   ],
   "source": [
    "import spacy\n",
    "from spacy import displacy\n",
    "\n",
    "TEXT1 = \"Got a letter as in the mail last week so that said Dr. Goldberg is moving to Arizona to take a new position there in June. He will be missed very much. \\n\\nI think finding a new doctor in NYC that you actually like might almost be as awful as trying to find a date!\"\n",
    "\n",
    "PATTERNS = [\n",
    "    {\n",
    "        \"label\":\"EMOTION_WORD\",\n",
    "        \"pattern\":[\n",
    "            {\n",
    "                \"LEMMA\": {\"IN\": [\"very\", \"much\", \"so\", \"good\", \"bad\"]}\n",
    "            },\n",
    "        ]\n",
    "    }\n",
    "]\n",
    "\n",
    "nlp = spacy.load(\"en_core_web_md\")\n",
    "nlp.remove_pipe(\"ner\")\n",
    "ruler = nlp.add_pipe(\"entity_ruler\")\n",
    "ruler.add_patterns(PATTERNS)\n",
    "\n",
    "def demo_spacy_patterns(text):\n",
    "    doc = nlp(text)\n",
    "    displacy.render(doc, style=\"ent\")\n",
    "\n",
    "demo_spacy_patterns(TEXT1)"
   ]
  },
  {
   "cell_type": "code",
   "execution_count": 4,
   "id": "12f75017-2601-4ab4-976d-e3e8b0138655",
   "metadata": {},
   "outputs": [],
   "source": [
    "def count_patterns(dataframe):\n",
    "    counter = {}\n",
    "\n",
    "    for i in range(len(dataframe)):\n",
    "        row = dataframe.iloc[i]\n",
    "    \n",
    "        rate = row['label'] + 1\n",
    "        if rate not in counter:\n",
    "            counter[rate] = {}\n",
    "        \n",
    "        text = row['text']\n",
    "        text_doc = nlp(text)\n",
    "    \n",
    "        for ent in text_doc.ents:\n",
    "            lemma = ent.lemma_\n",
    "            if lemma not in counter[rate]:\n",
    "                counter[rate][lemma] = 0\n",
    "            counter[rate][lemma] += 1\n",
    "\n",
    "    return counter\n",
    "\n",
    "# 90 seconds\n",
    "counts = count_patterns(data_df)"
   ]
  },
  {
   "cell_type": "code",
   "execution_count": 5,
   "id": "06960492-c252-4970-8ced-5490f5938131",
   "metadata": {},
   "outputs": [],
   "source": [
    "import pandas as pd\n",
    "\n",
    "counts_df = pd.DataFrame(counts).T.sort_index()"
   ]
  },
  {
   "cell_type": "code",
   "execution_count": 6,
   "id": "1c788832-b9e9-457c-997d-c9276ec8e2d5",
   "metadata": {},
   "outputs": [
    {
     "data": {
      "text/html": [
       "<div>\n",
       "<style scoped>\n",
       "    .dataframe tbody tr th:only-of-type {\n",
       "        vertical-align: middle;\n",
       "    }\n",
       "\n",
       "    .dataframe tbody tr th {\n",
       "        vertical-align: top;\n",
       "    }\n",
       "\n",
       "    .dataframe thead th {\n",
       "        text-align: right;\n",
       "    }\n",
       "</style>\n",
       "<table border=\"1\" class=\"dataframe\">\n",
       "  <thead>\n",
       "    <tr style=\"text-align: right;\">\n",
       "      <th></th>\n",
       "      <th>very</th>\n",
       "      <th>good</th>\n",
       "      <th>so</th>\n",
       "      <th>bad</th>\n",
       "      <th>much</th>\n",
       "    </tr>\n",
       "  </thead>\n",
       "  <tbody>\n",
       "    <tr>\n",
       "      <th>1</th>\n",
       "      <td>530</td>\n",
       "      <td>638</td>\n",
       "      <td>1173</td>\n",
       "      <td>724</td>\n",
       "      <td>287</td>\n",
       "    </tr>\n",
       "    <tr>\n",
       "      <th>2</th>\n",
       "      <td>891</td>\n",
       "      <td>1545</td>\n",
       "      <td>1504</td>\n",
       "      <td>552</td>\n",
       "      <td>540</td>\n",
       "    </tr>\n",
       "    <tr>\n",
       "      <th>3</th>\n",
       "      <td>966</td>\n",
       "      <td>2216</td>\n",
       "      <td>1493</td>\n",
       "      <td>387</td>\n",
       "      <td>515</td>\n",
       "    </tr>\n",
       "    <tr>\n",
       "      <th>4</th>\n",
       "      <td>977</td>\n",
       "      <td>1796</td>\n",
       "      <td>1176</td>\n",
       "      <td>166</td>\n",
       "      <td>347</td>\n",
       "    </tr>\n",
       "    <tr>\n",
       "      <th>5</th>\n",
       "      <td>643</td>\n",
       "      <td>1143</td>\n",
       "      <td>807</td>\n",
       "      <td>66</td>\n",
       "      <td>182</td>\n",
       "    </tr>\n",
       "  </tbody>\n",
       "</table>\n",
       "</div>"
      ],
      "text/plain": [
       "   very  good    so  bad  much\n",
       "1   530   638  1173  724   287\n",
       "2   891  1545  1504  552   540\n",
       "3   966  2216  1493  387   515\n",
       "4   977  1796  1176  166   347\n",
       "5   643  1143   807   66   182"
      ]
     },
     "execution_count": 6,
     "metadata": {},
     "output_type": "execute_result"
    }
   ],
   "source": [
    "counts_df"
   ]
  }
 ],
 "metadata": {
  "kernelspec": {
   "display_name": "Python 3 (ipykernel)",
   "language": "python",
   "name": "python3"
  },
  "language_info": {
   "codemirror_mode": {
    "name": "ipython",
    "version": 3
   },
   "file_extension": ".py",
   "mimetype": "text/x-python",
   "name": "python",
   "nbconvert_exporter": "python",
   "pygments_lexer": "ipython3",
   "version": "3.10.12"
  }
 },
 "nbformat": 4,
 "nbformat_minor": 5
}
