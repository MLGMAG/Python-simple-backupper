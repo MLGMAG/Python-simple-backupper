{
 "cells": [
  {
   "cell_type": "code",
   "execution_count": 2,
   "id": "7ff8f82b-175c-425e-a165-b1db2c99a446",
   "metadata": {},
   "outputs": [],
   "source": [
    "# Get tone ukrainian dict\n",
    "# https://github.com/lang-uk/tone-dict-uk\n",
    "\n",
    "import pandas as pd\n",
    "\n",
    "tone_dict_df = pd.read_csv('tone-dict-uk.tsv', sep='\\t')\n",
    "tone_dict_df = tone_dict_df.astype({\"tone_value\": float})\n",
    "\n",
    "TONE_DICT_UK = tone_dict_df.set_index('word').to_dict()['tone_value']"
   ]
  },
  {
   "cell_type": "code",
   "execution_count": 3,
   "id": "ff8be859-a0e4-4792-927d-5b83e5438569",
   "metadata": {},
   "outputs": [
    {
     "name": "stdout",
     "output_type": "stream",
     "text": [
      "Defaulting to user installation because normal site-packages is not writeable\n",
      "Requirement already satisfied: fasttext-langdetect in /home/mlgmag/.local/lib/python3.10/site-packages (1.0.5)\n",
      "Requirement already satisfied: fasttext>=0.9.1 in /home/mlgmag/.local/lib/python3.10/site-packages (from fasttext-langdetect) (0.9.2)\n",
      "Requirement already satisfied: requests>=2.22.0 in /home/mlgmag/.local/lib/python3.10/site-packages (from fasttext-langdetect) (2.31.0)\n",
      "Requirement already satisfied: pybind11>=2.2 in /home/mlgmag/.local/lib/python3.10/site-packages (from fasttext>=0.9.1->fasttext-langdetect) (2.11.1)\n",
      "Requirement already satisfied: setuptools>=0.7.0 in /home/mlgmag/.local/lib/python3.10/site-packages (from fasttext>=0.9.1->fasttext-langdetect) (69.1.1)\n",
      "Requirement already satisfied: numpy in /home/mlgmag/.local/lib/python3.10/site-packages (from fasttext>=0.9.1->fasttext-langdetect) (1.23.5)\n",
      "Requirement already satisfied: charset-normalizer<4,>=2 in /home/mlgmag/.local/lib/python3.10/site-packages (from requests>=2.22.0->fasttext-langdetect) (3.3.2)\n",
      "Requirement already satisfied: idna<4,>=2.5 in /home/mlgmag/.local/lib/python3.10/site-packages (from requests>=2.22.0->fasttext-langdetect) (2.10)\n",
      "Requirement already satisfied: urllib3<3,>=1.21.1 in /home/mlgmag/.local/lib/python3.10/site-packages (from requests>=2.22.0->fasttext-langdetect) (1.26.5)\n",
      "Requirement already satisfied: certifi>=2017.4.17 in /home/mlgmag/.local/lib/python3.10/site-packages (from requests>=2.22.0->fasttext-langdetect) (2023.11.17)\n"
     ]
    }
   ],
   "source": [
    "!pip install fasttext-langdetect"
   ]
  },
  {
   "cell_type": "code",
   "execution_count": 4,
   "id": "b6d465cd-01ec-4991-9b4b-b973cc32ccfc",
   "metadata": {},
   "outputs": [],
   "source": [
    "# Detect language\n",
    "\n",
    "from ftlangdetect import detect\n",
    "import string\n",
    "\n",
    "def sanitize_text(text):\n",
    "    text = text.replace(chr(769), '')\n",
    "    text = text.replace('\\n', ' ')\n",
    "    text = text.translate(str.maketrans('', '', string.punctuation))\n",
    "    return text\n",
    "\n",
    "# Returns 'uk', 'en', 'ru'\n",
    "def get_lang(line):\n",
    "    sanitized_line = sanitize_text(line) \n",
    "    return detect(sanitized_line, low_memory=True)['lang']"
   ]
  },
  {
   "cell_type": "code",
   "execution_count": 5,
   "id": "d6f9b15d-7706-4138-b634-2523aa889fc5",
   "metadata": {},
   "outputs": [
    {
     "name": "stderr",
     "output_type": "stream",
     "text": [
      "[nltk_data] Downloading package stopwords to /home/mlgmag/nltk_data...\n",
      "[nltk_data]   Package stopwords is already up-to-date!\n",
      "[nltk_data] Downloading package punkt to /home/mlgmag/nltk_data...\n",
      "[nltk_data]   Package punkt is already up-to-date!\n",
      "[nltk_data] Downloading package vader_lexicon to\n",
      "[nltk_data]     /home/mlgmag/nltk_data...\n",
      "[nltk_data]   Package vader_lexicon is already up-to-date!\n"
     ]
    }
   ],
   "source": [
    "import nltk\n",
    "from nltk.sentiment.vader import SentimentIntensityAnalyzer\n",
    "\n",
    "nltk.download('stopwords')\n",
    "nltk.download('punkt')\n",
    "nltk.download('vader_lexicon')\n",
    "\n",
    "SIA_UK = SentimentIntensityAnalyzer()\n",
    "SIA_UK.lexicon.update(TONE_DICT_UK)\n",
    "\n",
    "SIA_EN = SentimentIntensityAnalyzer()\n",
    "\n",
    "def get_polarity_scores(text):\n",
    "    lang = get_lang(text)\n",
    "    if lang == 'en':\n",
    "        return SIA_EN.polarity_scores(text)\n",
    "    return SIA_UK.polarity_scores(text)\n",
    "\n",
    "def classify_polarity_scores(polarity_scores):\n",
    "    compound = polarity_scores['compound']\n",
    "    result = \"NEUTRAL\"\n",
    "    if compound > 0.05:\n",
    "        result = \"POSITIVE\"\n",
    "    else:\n",
    "        result = \"NEGATIVE\"\n",
    "    return result"
   ]
  },
  {
   "cell_type": "code",
   "execution_count": 8,
   "id": "baa759d1-6d30-4e14-a90e-0df8277bed21",
   "metadata": {},
   "outputs": [
    {
     "name": "stdout",
     "output_type": "stream",
     "text": [
      "Defaulting to user installation because normal site-packages is not writeable\n",
      "Collecting git+https://github.com/kmike/pymorphy2.git\n",
      "  Cloning https://github.com/kmike/pymorphy2.git to /tmp/pip-req-build-j16mmkz3\n",
      "  Running command git clone --filter=blob:none --quiet https://github.com/kmike/pymorphy2.git /tmp/pip-req-build-j16mmkz3\n",
      "  Resolved https://github.com/kmike/pymorphy2.git to commit 92d546f042ff14601376d3646242908d5ab786c1\n",
      "  Preparing metadata (setup.py) ... \u001b[?25ldone\n",
      "\u001b[?25hRequirement already satisfied: dawg-python>=0.7.1 in /home/mlgmag/.local/lib/python3.10/site-packages (from pymorphy2==0.9.1) (0.7.2)\n",
      "Requirement already satisfied: pymorphy2-dicts-ru<3.0,>=2.4 in /home/mlgmag/.local/lib/python3.10/site-packages (from pymorphy2==0.9.1) (2.4.417127.4579844)\n",
      "Requirement already satisfied: docopt>=0.6 in /home/mlgmag/.local/lib/python3.10/site-packages (from pymorphy2==0.9.1) (0.6.2)\n",
      "Defaulting to user installation because normal site-packages is not writeable\n",
      "Requirement already satisfied: pymorphy2-dicts-uk in /home/mlgmag/.local/lib/python3.10/site-packages (2.4.1.1.1460299261)\n"
     ]
    }
   ],
   "source": [
    "!pip install git+https://github.com/kmike/pymorphy2.git\n",
    "!pip install -U pymorphy2-dicts-uk"
   ]
  },
  {
   "cell_type": "code",
   "execution_count": 16,
   "id": "17d7d767-44c6-451e-b15b-926c70194264",
   "metadata": {},
   "outputs": [
    {
     "name": "stderr",
     "output_type": "stream",
     "text": [
      "[nltk_data] Downloading package stopwords to /home/mlgmag/nltk_data...\n",
      "[nltk_data]   Package stopwords is already up-to-date!\n"
     ]
    }
   ],
   "source": [
    "import pymorphy2\n",
    "import string\n",
    "import nltk\n",
    "from nltk.stem import PorterStemmer\n",
    "from nltk.corpus import stopwords\n",
    "\n",
    "nltk.download('stopwords')\n",
    "ENGLISH_STOP_WORDS = stopwords.words('english')\n",
    "\n",
    "morph = pymorphy2.MorphAnalyzer(lang='uk')\n",
    "\n",
    "def to_raw_uk(text):\n",
    "    sentences = nltk.sent_tokenize(text)\n",
    "\n",
    "    normal_words = []\n",
    "\n",
    "    for sentence in sentences:\n",
    "        sanitized_sentence = sanitize_text(sentence)\n",
    "        tokens = nltk.word_tokenize(sanitized_sentence)\n",
    "        for token in tokens:        \n",
    "            parse_result = morph.parse(token)[0]\n",
    "            normal_form = parse_result.normal_form\n",
    "            normal_words.append(normal_form)\n",
    "\n",
    "    return \" \".join(normal_words)\n",
    "\n",
    "\n",
    "\n",
    "ps = PorterStemmer()\n",
    "\n",
    "def to_raw_en(text):\n",
    "    sentences = nltk.sent_tokenize(text)\n",
    "\n",
    "    normal_words = []\n",
    "\n",
    "    for sentence in sentences:\n",
    "        sanitized_sentence = sanitize_text(sentence)\n",
    "        tokens = nltk.word_tokenize(sanitized_sentence)\n",
    "        filtered_tokens = [token for token in tokens if token not in ENGLISH_STOP_WORDS]\n",
    "        for token in filtered_tokens:\n",
    "            normal_form = ps.stem(token)\n",
    "            normal_words.append(normal_form)\n",
    "\n",
    "    return \" \".join(normal_words)\n"
   ]
  },
  {
   "cell_type": "code",
   "execution_count": 21,
   "id": "f4214eb8-5fa8-4897-900d-77ab512a30cb",
   "metadata": {},
   "outputs": [
    {
     "name": "stdout",
     "output_type": "stream",
     "text": [
      "Initial text:\t\t 'Книга Елізабет Гілберт \"Їсти. Молитися. Кохати\" після її прочитання викликала відчуття легкості та одночасно потребу в зануренні та вивченні власного \"Я\". Це є вважаю однозначним плюсом. Мимоволі, в процесі читання, відчувається бажання вдосконалити себе, знайти те, що зможе відкриє тебе, а ще те, що принесе нову та потрібну радість кожного дня у вже буденне життя.\n",
      "Особливістю даного роману є його автобіографічність, що завжди приваблює. Дійсно цікаво спостерігати за тим, що переживала людина у важливий для себе життєвий період.\n",
      "Варто відмітити зручність структури роману, адже вся книга поділена на три частини, відповідно з трьома країнами, що їх відвідала авторка. Кожна з цих частин ділиться на маленькі розділи, що є дуже зручним у процесі читання. Загалом, і оформлення книги, і друк тексту, на приємних для очей молочного кольору аркушах, однозначно приваблюють.\n",
      "Сама історія дуже підходить для літніх читань на природі і, звісно, більше для жінок, ніж для чоловіків. Хоча, хто зна. Може чоловіки саме тут зможуть відкрити для себе загадковий жіночий світ.'\n",
      "Raw text:\t\t 'книга елізабет гілберт їсти молитися кохати після її прочитання викликати відчуття легкість та одночасно потреба в занурення та вивчення власний я це бути вважати однозначний плюс мимоволі в процес читання відчуватися бажання вдосконалити себе знайти той що змогти відкрити ти а ще той що принести новий та потрібний радість кожний день у вже буденний життя особливість даний роман бути йога автобіографічність що завжди приваблювати дійсно цікаво спостерігати за той що переживати людина у важливий для себе життєвий період варта відмітити зручність структура роман адже весь книга поділений на терти частина відповідно з три країна що вони відвідати авторка кожний з цей частина ділитися на маленький розділити що бути дуже зручний у процес читання загал і оформлення книга і друк текст на приємний для око молочний колір аркуш однозначно приваблювати самий історія дуже підходити для літній читання на природа і звісно більше для жінка ніж для чоловік хоча хто зна може чоловік саме тут змогти відкрити для себе загадковий жіночий світ'\n",
      "Polarity:\t\t 'POSITIVE'\n",
      "Polarity details:\t '{'neg': 0.025, 'neu': 0.88, 'pos': 0.095, 'compound': 0.8402}'\n"
     ]
    }
   ],
   "source": [
    "def demo(text):\n",
    "    lang = get_lang(text)\n",
    "    raw_text = \"\"\n",
    "    if lang == 'en':\n",
    "        raw_text = to_raw_en(text)\n",
    "    elif lang == 'uk':\n",
    "        raw_text = to_raw_ua(text)\n",
    "\n",
    "    polarity_scores = get_polarity_scores(raw_text)\n",
    "    polarity = classify_polarity_scores(polarity_scores)\n",
    "\n",
    "    print(f\"Initial text:\\t\\t '{text}'\")\n",
    "    print(f\"Raw text:\\t\\t '{raw_text}'\")\n",
    "    print(f\"Polarity:\\t\\t '{polarity}'\")\n",
    "    print(f\"Polarity details:\\t '{polarity_scores}'\")\n",
    "\n",
    "TEXT1 = \"У Зеленського вважають, що вандали під ОП хотіли спровокувати насильство\"\n",
    "TEXT2 = \"Книга Елізабет Гілберт \\\"Їсти. Молитися. Кохати\\\" після її прочитання викликала відчуття легкості та одночасно потребу в зануренні та вивченні власного \\\"Я\\\". Це є вважаю однозначним плюсом. Мимоволі, в процесі читання, відчувається бажання вдосконалити себе, знайти те, що зможе відкриє тебе, а ще те, що принесе нову та потрібну радість кожного дня у вже буденне життя.\\nОсобливістю даного роману є його автобіографічність, що завжди приваблює. Дійсно цікаво спостерігати за тим, що переживала людина у важливий для себе життєвий період.\\nВарто відмітити зручність структури роману, адже вся книга поділена на три частини, відповідно з трьома країнами, що їх відвідала авторка. Кожна з цих частин ділиться на маленькі розділи, що є дуже зручним у процесі читання. Загалом, і оформлення книги, і друк тексту, на приємних для очей молочного кольору аркушах, однозначно приваблюють.\\nСама історія дуже підходить для літніх читань на природі і, звісно, більше для жінок, ніж для чоловіків. Хоча, хто зна. Може чоловіки саме тут зможуть відкрити для себе загадковий жіночий світ.\"\n",
    "TEXT3 = \"This is a great gpu with very impressive cooling. Mine runs at 60 degrees Celsius under full load and maxes out at 215 watts. It performs identically to my 3080 at a fraction of the power consumption. The provided gpu anti sag mount is a nice plus and one of the better things in my opinion is the plug is inset a bit to help the angle not be so hard on the 16 pin 12vhp cable. The manual also specifies to use 2 separate 8pin connectors rather than one and a daisy chain.\"\n",
    "TEXT4 = \"Очень рада, что столь известный роман Элизабет Гилберт можно теперь прочитать и на украинском. Переводом осталась довольна, хоть и есть несколько спорных моментов (изначально читала его в оригинале и было с чем сравнить). Немного странным кажется выбор обложки — как правило, его публикуют в чем-то ярком и пестром, но тут, должна признать, неплохо передается внутренние переживания героини в самом начале.\\n\\nСразу хочу предупредить, что если Вы не можете себе представить что можно бросить всё — дом, работу, мужа, семью — и отправиться путешествовать просто потому что не можете вновь почувствовать вкус счастья, то лучше не читать эту книгу. Она вызовет только раздражение, а проблемы главной героини покажутся не такими уж серьезными. Но этот роман может оказаться настоящим бальзамом для души тех женщин, которые сбились с пути или зашли в тупик жизни.\\n\\nЛиз — уже немолода. У неё есть хорошая работа и любящий муж. Есть и любовник. Но ничто уже счастья ей не приносит. Дабы справится с депрессией, она решает отправиться в путешествие и посетить Италию, Индию и Бали. Гилберт приглашает в это путешествие и нас.\\n\\nИталия — страна солнца и вкуса, родина пиццы, пасты и других аппетитных вещей. Здесь главная героиня познает наконец вкус жизни, учиться наслаждаться едой и принимать себя даже не влезая в джинсы)) Да, еде в этой части отведено много места. Лично я, пока читала, сама пристрастилась к итальянской кухне.\\n\\nВ Индии Лиз пытается найти душевное равновесие посредством молитв и медитаций. Тут мы узнаем немало об индийской культуре и её жителях, а также тех, кто как и Лиз, пытается найти себя.\\n\\nБали... Бали создано для любви) И там героиня Гилберт смогла найти того самого, в которого можно по уши влюбиться как в юности, со всей страстью.\\n\\nКнига полна красок и учит жить. Возможно, не пускаясь восвояси по разным странам и континентам, но помогает найти ключи к счастью вокруг.\\n\\nРекомендую как книгу для отпуска, так и книгу от депрессии. А также просто как добротный женский роман для поклонников этого жанра!)\"\n",
    "\n",
    "demo(TEXT2)"
   ]
  }
 ],
 "metadata": {
  "kernelspec": {
   "display_name": "Python 3 (ipykernel)",
   "language": "python",
   "name": "python3"
  },
  "language_info": {
   "codemirror_mode": {
    "name": "ipython",
    "version": 3
   },
   "file_extension": ".py",
   "mimetype": "text/x-python",
   "name": "python",
   "nbconvert_exporter": "python",
   "pygments_lexer": "ipython3",
   "version": "3.10.12"
  }
 },
 "nbformat": 4,
 "nbformat_minor": 5
}
