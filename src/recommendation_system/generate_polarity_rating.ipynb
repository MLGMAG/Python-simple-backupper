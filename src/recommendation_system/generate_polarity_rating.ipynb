{
 "cells": [
  {
   "cell_type": "code",
   "execution_count": 1,
   "id": "64e37353-134a-4d7e-a9d5-1d99cde09422",
   "metadata": {},
   "outputs": [],
   "source": [
    "import pandas as pd\n",
    "\n",
    "REVIEWS_POLARITY_FILE = 'reviews_polarity.jsonlines'\n",
    "\n",
    "reviews = pd.read_json(REVIEWS_POLARITY_FILE, lines=True)"
   ]
  },
  {
   "cell_type": "code",
   "execution_count": 2,
   "id": "6fb484e4-22bd-446a-837a-7356f08cf593",
   "metadata": {},
   "outputs": [
    {
     "data": {
      "text/html": [
       "<div>\n",
       "<style scoped>\n",
       "    .dataframe tbody tr th:only-of-type {\n",
       "        vertical-align: middle;\n",
       "    }\n",
       "\n",
       "    .dataframe tbody tr th {\n",
       "        vertical-align: top;\n",
       "    }\n",
       "\n",
       "    .dataframe thead th {\n",
       "        text-align: right;\n",
       "    }\n",
       "</style>\n",
       "<table border=\"1\" class=\"dataframe\">\n",
       "  <thead>\n",
       "    <tr style=\"text-align: right;\">\n",
       "      <th></th>\n",
       "      <th>type</th>\n",
       "      <th>review</th>\n",
       "      <th>reviewTitle</th>\n",
       "      <th>rating</th>\n",
       "      <th>datePublished</th>\n",
       "      <th>book_id</th>\n",
       "      <th>review_id</th>\n",
       "      <th>lang</th>\n",
       "      <th>polarity</th>\n",
       "    </tr>\n",
       "  </thead>\n",
       "  <tbody>\n",
       "    <tr>\n",
       "      <th>0</th>\n",
       "      <td>review</td>\n",
       "      <td>Добралася до відомого роману, який нещодавно в...</td>\n",
       "      <td>Сердечна книга!</td>\n",
       "      <td>5</td>\n",
       "      <td>2016-06-1</td>\n",
       "      <td>0</td>\n",
       "      <td>0</td>\n",
       "      <td>uk</td>\n",
       "      <td>POSITIVE</td>\n",
       "    </tr>\n",
       "    <tr>\n",
       "      <th>1</th>\n",
       "      <td>review</td>\n",
       "      <td>История тут о замужней женщине - Элизабет. Ист...</td>\n",
       "      <td>Очень нудно…Но не без смысла.</td>\n",
       "      <td>2</td>\n",
       "      <td>2017-01-3</td>\n",
       "      <td>0</td>\n",
       "      <td>1</td>\n",
       "      <td>ru</td>\n",
       "      <td></td>\n",
       "    </tr>\n",
       "    <tr>\n",
       "      <th>2</th>\n",
       "      <td>review</td>\n",
       "      <td>Очень рада, что столь известный роман Элизабет...</td>\n",
       "      <td>Лекарство от душевной тоски</td>\n",
       "      <td>5</td>\n",
       "      <td>2016-08-5</td>\n",
       "      <td>0</td>\n",
       "      <td>2</td>\n",
       "      <td>ru</td>\n",
       "      <td></td>\n",
       "    </tr>\n",
       "    <tr>\n",
       "      <th>3</th>\n",
       "      <td>review</td>\n",
       "      <td>Эту книгу я решила прочитать, потому что все в...</td>\n",
       "      <td>Скучно и неинтересно</td>\n",
       "      <td>2</td>\n",
       "      <td>2017-06-28</td>\n",
       "      <td>0</td>\n",
       "      <td>3</td>\n",
       "      <td>ru</td>\n",
       "      <td></td>\n",
       "    </tr>\n",
       "    <tr>\n",
       "      <th>4</th>\n",
       "      <td>review</td>\n",
       "      <td>Книга Елізабет Гілберт \"Їсти. Молитися. Кохати...</td>\n",
       "      <td>\"Їсти. Молитися. Кохати\"</td>\n",
       "      <td>4</td>\n",
       "      <td>2018-08-15</td>\n",
       "      <td>0</td>\n",
       "      <td>4</td>\n",
       "      <td>uk</td>\n",
       "      <td>POSITIVE</td>\n",
       "    </tr>\n",
       "  </tbody>\n",
       "</table>\n",
       "</div>"
      ],
      "text/plain": [
       "     type                                             review  \\\n",
       "0  review  Добралася до відомого роману, який нещодавно в...   \n",
       "1  review  История тут о замужней женщине - Элизабет. Ист...   \n",
       "2  review  Очень рада, что столь известный роман Элизабет...   \n",
       "3  review  Эту книгу я решила прочитать, потому что все в...   \n",
       "4  review  Книга Елізабет Гілберт \"Їсти. Молитися. Кохати...   \n",
       "\n",
       "                     reviewTitle  rating datePublished  book_id  review_id  \\\n",
       "0                Сердечна книга!       5     2016-06-1        0          0   \n",
       "1  Очень нудно…Но не без смысла.       2     2017-01-3        0          1   \n",
       "2    Лекарство от душевной тоски       5     2016-08-5        0          2   \n",
       "3           Скучно и неинтересно       2    2017-06-28        0          3   \n",
       "4       \"Їсти. Молитися. Кохати\"       4    2018-08-15        0          4   \n",
       "\n",
       "  lang  polarity  \n",
       "0   uk  POSITIVE  \n",
       "1   ru            \n",
       "2   ru            \n",
       "3   ru            \n",
       "4   uk  POSITIVE  "
      ]
     },
     "execution_count": 2,
     "metadata": {},
     "output_type": "execute_result"
    }
   ],
   "source": [
    "reviews.head()"
   ]
  },
  {
   "cell_type": "code",
   "execution_count": 3,
   "id": "4ecb305a-b7a6-424f-9a96-08d46e9e94b9",
   "metadata": {},
   "outputs": [],
   "source": [
    "polarity_reviews = reviews[(reviews['polarity'] != \"\")]"
   ]
  },
  {
   "cell_type": "code",
   "execution_count": 4,
   "id": "ec7d2384-614d-4968-9f83-75a854ec9d99",
   "metadata": {},
   "outputs": [],
   "source": [
    "book_id_polarity_df = polarity_reviews.groupby(['book_id', 'polarity']).size().unstack(fill_value=0)"
   ]
  },
  {
   "cell_type": "code",
   "execution_count": 5,
   "id": "5afdf57b-f40c-4e98-bf7a-abec050d0d71",
   "metadata": {},
   "outputs": [],
   "source": [
    "def calculate_polarity_rating(row):\n",
    "    positive = row['POSITIVE']\n",
    "    negative = row['NEGATIVE']\n",
    "    sum = float(positive + negative)\n",
    "    rating = (5.0 / sum) * positive\n",
    "    row['polarity_rating'] = rating\n",
    "    return row.round(2)\n",
    "\n",
    "polarity_rating_df = book_id_polarity_df.apply(calculate_polarity_rating, axis=1)"
   ]
  },
  {
   "cell_type": "code",
   "execution_count": 6,
   "id": "d0fdad30-5188-43db-9462-c1a3ffaf1dd3",
   "metadata": {},
   "outputs": [],
   "source": [
    "# Add rating\n",
    "\n",
    "BOOKS_FILE = 'books.jsonlines'\n",
    "books = pd.read_json(BOOKS_FILE, lines=True)\n",
    "\n",
    "book_id_book = books.set_index('book_id')\n",
    "books_polarity_rating_df = book_id_book.join(polarity_rating_df, on=\"book_id\")\n",
    "books_polarity_rating_df = books_polarity_rating_df.reset_index()"
   ]
  },
  {
   "cell_type": "code",
   "execution_count": 7,
   "id": "050bd615-4a87-4de9-9898-3451c9b0218e",
   "metadata": {},
   "outputs": [],
   "source": [
    "books_polarity_rating_json_lines = books_polarity_rating_df.to_json(orient='records', lines=True, force_ascii=False)"
   ]
  },
  {
   "cell_type": "code",
   "execution_count": 8,
   "id": "9a4e29c1-6897-4c04-a1b3-1b0a6bb5f08e",
   "metadata": {},
   "outputs": [],
   "source": [
    "OUTPUT_FILE_PATH = \"./books_polarity_rating.jsonlines\"\n",
    "\n",
    "with open(OUTPUT_FILE_PATH, \"w\") as f:\n",
    "    f.write(books_polarity_rating_json_lines)"
   ]
  }
 ],
 "metadata": {
  "kernelspec": {
   "display_name": "Python 3 (ipykernel)",
   "language": "python",
   "name": "python3"
  },
  "language_info": {
   "codemirror_mode": {
    "name": "ipython",
    "version": 3
   },
   "file_extension": ".py",
   "mimetype": "text/x-python",
   "name": "python",
   "nbconvert_exporter": "python",
   "pygments_lexer": "ipython3",
   "version": "3.10.12"
  }
 },
 "nbformat": 4,
 "nbformat_minor": 5
}
