{
 "cells": [
  {
   "cell_type": "code",
   "execution_count": 2,
   "id": "7ff8f82b-175c-425e-a165-b1db2c99a446",
   "metadata": {},
   "outputs": [],
   "source": [
    "# Get tone ukrainian dict\n",
    "# https://github.com/lang-uk/tone-dict-uk\n",
    "\n",
    "import pandas as pd\n",
    "\n",
    "tone_dict_df = pd.read_csv('tone-dict-uk.tsv', sep='\\t')\n",
    "tone_dict_df = tone_dict_df.astype({\"tone_value\": float})\n",
    "\n",
    "TONE_DICT_UK = tone_dict_df.set_index('word').to_dict()['tone_value']"
   ]
  },
  {
   "cell_type": "code",
   "execution_count": 3,
   "id": "ff8be859-a0e4-4792-927d-5b83e5438569",
   "metadata": {},
   "outputs": [
    {
     "name": "stdout",
     "output_type": "stream",
     "text": [
      "Defaulting to user installation because normal site-packages is not writeable\n",
      "Requirement already satisfied: fasttext-langdetect in /home/mlgmag/.local/lib/python3.10/site-packages (1.0.5)\n",
      "Requirement already satisfied: fasttext>=0.9.1 in /home/mlgmag/.local/lib/python3.10/site-packages (from fasttext-langdetect) (0.9.2)\n",
      "Requirement already satisfied: requests>=2.22.0 in /home/mlgmag/.local/lib/python3.10/site-packages (from fasttext-langdetect) (2.31.0)\n",
      "Requirement already satisfied: pybind11>=2.2 in /home/mlgmag/.local/lib/python3.10/site-packages (from fasttext>=0.9.1->fasttext-langdetect) (2.11.1)\n",
      "Requirement already satisfied: setuptools>=0.7.0 in /home/mlgmag/.local/lib/python3.10/site-packages (from fasttext>=0.9.1->fasttext-langdetect) (69.1.1)\n",
      "Requirement already satisfied: numpy in /home/mlgmag/.local/lib/python3.10/site-packages (from fasttext>=0.9.1->fasttext-langdetect) (1.23.5)\n",
      "Requirement already satisfied: charset-normalizer<4,>=2 in /home/mlgmag/.local/lib/python3.10/site-packages (from requests>=2.22.0->fasttext-langdetect) (3.3.2)\n",
      "Requirement already satisfied: idna<4,>=2.5 in /home/mlgmag/.local/lib/python3.10/site-packages (from requests>=2.22.0->fasttext-langdetect) (2.10)\n",
      "Requirement already satisfied: urllib3<3,>=1.21.1 in /home/mlgmag/.local/lib/python3.10/site-packages (from requests>=2.22.0->fasttext-langdetect) (1.26.5)\n",
      "Requirement already satisfied: certifi>=2017.4.17 in /home/mlgmag/.local/lib/python3.10/site-packages (from requests>=2.22.0->fasttext-langdetect) (2023.11.17)\n"
     ]
    }
   ],
   "source": [
    "!pip install fasttext-langdetect"
   ]
  },
  {
   "cell_type": "code",
   "execution_count": 4,
   "id": "b6d465cd-01ec-4991-9b4b-b973cc32ccfc",
   "metadata": {},
   "outputs": [],
   "source": [
    "# Detect language\n",
    "\n",
    "from ftlangdetect import detect\n",
    "import string\n",
    "\n",
    "def sanitize_text(text):\n",
    "    text = text.replace(chr(769), '')\n",
    "    text = text.replace('\\n', ' ')\n",
    "    text = text.translate(str.maketrans('', '', string.punctuation))\n",
    "    return text\n",
    "\n",
    "# Returns 'uk', 'en', 'ru'\n",
    "def get_lang(line):\n",
    "    sanitized_line = sanitize_text(line) \n",
    "    return detect(sanitized_line, low_memory=True)['lang']"
   ]
  },
  {
   "cell_type": "code",
   "execution_count": 5,
   "id": "d6f9b15d-7706-4138-b634-2523aa889fc5",
   "metadata": {},
   "outputs": [
    {
     "name": "stderr",
     "output_type": "stream",
     "text": [
      "[nltk_data] Downloading package stopwords to /home/mlgmag/nltk_data...\n",
      "[nltk_data]   Package stopwords is already up-to-date!\n",
      "[nltk_data] Downloading package punkt to /home/mlgmag/nltk_data...\n",
      "[nltk_data]   Package punkt is already up-to-date!\n",
      "[nltk_data] Downloading package vader_lexicon to\n",
      "[nltk_data]     /home/mlgmag/nltk_data...\n",
      "[nltk_data]   Package vader_lexicon is already up-to-date!\n"
     ]
    }
   ],
   "source": [
    "import nltk\n",
    "from nltk.sentiment.vader import SentimentIntensityAnalyzer\n",
    "\n",
    "nltk.download('stopwords')\n",
    "nltk.download('punkt')\n",
    "nltk.download('vader_lexicon')\n",
    "\n",
    "SIA_UK = SentimentIntensityAnalyzer()\n",
    "SIA_UK.lexicon.update(TONE_DICT_UK)\n",
    "\n",
    "SIA_EN = SentimentIntensityAnalyzer()\n",
    "\n",
    "def get_polarity_scores(text):\n",
    "    lang = get_lang(text)\n",
    "    if lang == 'en':\n",
    "        return SIA_EN.polarity_scores(text)\n",
    "    return SIA_UK.polarity_scores(text)\n",
    "\n",
    "def classify_polarity_scores(polarity_scores):\n",
    "    compound = polarity_scores['compound']\n",
    "    result = \"NEUTRAL\"\n",
    "    if compound > 0.05:\n",
    "        result = \"POSITIVE\"\n",
    "    else:\n",
    "        result = \"NEGATIVE\"\n",
    "    return result"
   ]
  },
  {
   "cell_type": "code",
   "execution_count": 8,
   "id": "baa759d1-6d30-4e14-a90e-0df8277bed21",
   "metadata": {},
   "outputs": [
    {
     "name": "stdout",
     "output_type": "stream",
     "text": [
      "Defaulting to user installation because normal site-packages is not writeable\n",
      "Collecting git+https://github.com/kmike/pymorphy2.git\n",
      "  Cloning https://github.com/kmike/pymorphy2.git to /tmp/pip-req-build-j16mmkz3\n",
      "  Running command git clone --filter=blob:none --quiet https://github.com/kmike/pymorphy2.git /tmp/pip-req-build-j16mmkz3\n",
      "  Resolved https://github.com/kmike/pymorphy2.git to commit 92d546f042ff14601376d3646242908d5ab786c1\n",
      "  Preparing metadata (setup.py) ... \u001b[?25ldone\n",
      "\u001b[?25hRequirement already satisfied: dawg-python>=0.7.1 in /home/mlgmag/.local/lib/python3.10/site-packages (from pymorphy2==0.9.1) (0.7.2)\n",
      "Requirement already satisfied: pymorphy2-dicts-ru<3.0,>=2.4 in /home/mlgmag/.local/lib/python3.10/site-packages (from pymorphy2==0.9.1) (2.4.417127.4579844)\n",
      "Requirement already satisfied: docopt>=0.6 in /home/mlgmag/.local/lib/python3.10/site-packages (from pymorphy2==0.9.1) (0.6.2)\n",
      "Defaulting to user installation because normal site-packages is not writeable\n",
      "Requirement already satisfied: pymorphy2-dicts-uk in /home/mlgmag/.local/lib/python3.10/site-packages (2.4.1.1.1460299261)\n"
     ]
    }
   ],
   "source": [
    "!pip install git+https://github.com/kmike/pymorphy2.git\n",
    "!pip install -U pymorphy2-dicts-uk"
   ]
  },
  {
   "cell_type": "code",
   "execution_count": 16,
   "id": "17d7d767-44c6-451e-b15b-926c70194264",
   "metadata": {},
   "outputs": [
    {
     "name": "stderr",
     "output_type": "stream",
     "text": [
      "[nltk_data] Downloading package stopwords to /home/mlgmag/nltk_data...\n",
      "[nltk_data]   Package stopwords is already up-to-date!\n"
     ]
    }
   ],
   "source": [
    "import pymorphy2\n",
    "import string\n",
    "import nltk\n",
    "from nltk.stem import PorterStemmer\n",
    "from nltk.corpus import stopwords\n",
    "\n",
    "nltk.download('stopwords')\n",
    "ENGLISH_STOP_WORDS = stopwords.words('english')\n",
    "\n",
    "morph = pymorphy2.MorphAnalyzer(lang='uk')\n",
    "\n",
    "def to_raw_uk(text):\n",
    "    sentences = nltk.sent_tokenize(text)\n",
    "\n",
    "    normal_words = []\n",
    "\n",
    "    for sentence in sentences:\n",
    "        sanitized_sentence = sanitize_text(sentence)\n",
    "        tokens = nltk.word_tokenize(sanitized_sentence)\n",
    "        for token in tokens:        \n",
    "            parse_result = morph.parse(token)[0]\n",
    "            normal_form = parse_result.normal_form\n",
    "            normal_words.append(normal_form)\n",
    "\n",
    "    return \" \".join(normal_words)\n",
    "\n",
    "\n",
    "\n",
    "ps = PorterStemmer()\n",
    "\n",
    "def to_raw_en(text):\n",
    "    sentences = nltk.sent_tokenize(text)\n",
    "\n",
    "    normal_words = []\n",
    "\n",
    "    for sentence in sentences:\n",
    "        sanitized_sentence = sanitize_text(sentence)\n",
    "        tokens = nltk.word_tokenize(sanitized_sentence)\n",
    "        filtered_tokens = [token for token in tokens if token not in ENGLISH_STOP_WORDS]\n",
    "        for token in filtered_tokens:\n",
    "            normal_form = ps.stem(token)\n",
    "            normal_words.append(normal_form)\n",
    "\n",
    "    return \" \".join(normal_words)\n"
   ]
  },
  {
   "cell_type": "code",
   "execution_count": 33,
   "id": "990f9fb4-f8cf-4408-a212-5d3bfa6d09e4",
   "metadata": {},
   "outputs": [],
   "source": [
    "def get_polarity(text):\n",
    "    lang = get_lang(text)\n",
    "    raw_text = \"\"\n",
    "    if lang == 'en':\n",
    "        raw_text = to_raw_en(text)\n",
    "    elif lang == 'uk':\n",
    "        raw_text = to_raw_ua(text)\n",
    "\n",
    "    polarity_scores = get_polarity_scores(raw_text)\n",
    "    return classify_polarity_scores(polarity_scores)"
   ]
  },
  {
   "cell_type": "code",
   "execution_count": 47,
   "id": "80a9e5b9-036e-4ff1-a6e2-5d7af7d5d08d",
   "metadata": {},
   "outputs": [],
   "source": [
    "REVIEWS_LANG_FILE = './reviews_lang.jsonlines'\n",
    "reviews_lang = pd.read_json(REVIEWS_LANG_FILE, lines=True)"
   ]
  },
  {
   "cell_type": "code",
   "execution_count": 44,
   "id": "8bb49aaf-7a49-45db-934a-d52c91d805a5",
   "metadata": {},
   "outputs": [],
   "source": [
    "def should_process(lang):\n",
    "    return lang in ['en', 'uk']\n",
    "\n",
    "def add_polarity(reviews_row):\n",
    "    lang = reviews_row['lang']\n",
    "    polarity = \"\"\n",
    "    if should_process(lang):\n",
    "        review = reviews_row['review']\n",
    "        polarity = get_polarity(review)\n",
    "\n",
    "    reviews_row['polarity'] = polarity\n",
    "\n",
    "    return reviews_row\n",
    "\n",
    "# ~500 seconds\n",
    "reviews_polarity = reviews_lang.apply(add_polarity, axis=1)"
   ]
  },
  {
   "cell_type": "code",
   "execution_count": 45,
   "id": "1167585f-a060-46fb-8b2b-61b0636e4ef8",
   "metadata": {},
   "outputs": [],
   "source": [
    "reviews_lang_json_lines = reviews_polarity.to_json(orient='records', lines=True, force_ascii=False)"
   ]
  },
  {
   "cell_type": "code",
   "execution_count": 46,
   "id": "2a3480f6-2abf-44f7-8895-79b76beea959",
   "metadata": {},
   "outputs": [],
   "source": [
    "OUTPUT_FILE_PATH = \"./reviews_polarity.jsonlines\"\n",
    "\n",
    "with open(OUTPUT_FILE_PATH, \"w\") as f:\n",
    "    f.write(reviews_lang_json_lines)"
   ]
  }
 ],
 "metadata": {
  "kernelspec": {
   "display_name": "Python 3 (ipykernel)",
   "language": "python",
   "name": "python3"
  },
  "language_info": {
   "codemirror_mode": {
    "name": "ipython",
    "version": 3
   },
   "file_extension": ".py",
   "mimetype": "text/x-python",
   "name": "python",
   "nbconvert_exporter": "python",
   "pygments_lexer": "ipython3",
   "version": "3.10.12"
  }
 },
 "nbformat": 4,
 "nbformat_minor": 5
}
