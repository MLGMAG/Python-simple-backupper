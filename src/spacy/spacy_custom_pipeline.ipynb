{
 "cells": [
  {
   "cell_type": "code",
   "execution_count": 1,
   "id": "200d97c8-257b-4db1-9954-d3566ff1752f",
   "metadata": {},
   "outputs": [],
   "source": [
    "from pyarrow.parquet import ParquetFile\n",
    "import pyarrow as pa \n",
    "\n",
    "ROWS_COUNT = 10_000\n",
    "\n",
    "INPUT_DATA = \"./resources/train-00000-of-00001.parquet\"\n",
    "\n",
    "pf = ParquetFile(INPUT_DATA) \n",
    "parquet_rows = next(pf.iter_batches(batch_size = ROWS_COUNT))\n",
    "\n",
    "data_df = pa.Table.from_batches([parquet_rows]).to_pandas()"
   ]
  },
  {
   "cell_type": "code",
   "execution_count": 2,
   "id": "a3f9cd95-140b-43c7-9e5e-a2bf08ed4f20",
   "metadata": {},
   "outputs": [
    {
     "data": {
      "text/html": [
       "<div>\n",
       "<style scoped>\n",
       "    .dataframe tbody tr th:only-of-type {\n",
       "        vertical-align: middle;\n",
       "    }\n",
       "\n",
       "    .dataframe tbody tr th {\n",
       "        vertical-align: top;\n",
       "    }\n",
       "\n",
       "    .dataframe thead th {\n",
       "        text-align: right;\n",
       "    }\n",
       "</style>\n",
       "<table border=\"1\" class=\"dataframe\">\n",
       "  <thead>\n",
       "    <tr style=\"text-align: right;\">\n",
       "      <th></th>\n",
       "      <th>label</th>\n",
       "      <th>text</th>\n",
       "    </tr>\n",
       "  </thead>\n",
       "  <tbody>\n",
       "    <tr>\n",
       "      <th>0</th>\n",
       "      <td>4</td>\n",
       "      <td>dr. goldberg offers everything i look for in a...</td>\n",
       "    </tr>\n",
       "    <tr>\n",
       "      <th>1</th>\n",
       "      <td>1</td>\n",
       "      <td>Unfortunately, the frustration of being Dr. Go...</td>\n",
       "    </tr>\n",
       "    <tr>\n",
       "      <th>2</th>\n",
       "      <td>3</td>\n",
       "      <td>Been going to Dr. Goldberg for over 10 years. ...</td>\n",
       "    </tr>\n",
       "    <tr>\n",
       "      <th>3</th>\n",
       "      <td>3</td>\n",
       "      <td>Got a letter in the mail last week that said D...</td>\n",
       "    </tr>\n",
       "    <tr>\n",
       "      <th>4</th>\n",
       "      <td>0</td>\n",
       "      <td>I don't know what Dr. Goldberg was like before...</td>\n",
       "    </tr>\n",
       "  </tbody>\n",
       "</table>\n",
       "</div>"
      ],
      "text/plain": [
       "   label                                               text\n",
       "0      4  dr. goldberg offers everything i look for in a...\n",
       "1      1  Unfortunately, the frustration of being Dr. Go...\n",
       "2      3  Been going to Dr. Goldberg for over 10 years. ...\n",
       "3      3  Got a letter in the mail last week that said D...\n",
       "4      0  I don't know what Dr. Goldberg was like before..."
      ]
     },
     "execution_count": 2,
     "metadata": {},
     "output_type": "execute_result"
    }
   ],
   "source": [
    "data_df.head()"
   ]
  },
  {
   "cell_type": "code",
   "execution_count": 10,
   "id": "1be31dad-cc17-4490-ba41-7bd9986772d8",
   "metadata": {},
   "outputs": [],
   "source": [
    "TEXTS = data_df['text'].values\n",
    "\n",
    "PATTERNS = [\n",
    "    {\n",
    "        \"label\":\"EMOTION_WORD\",\n",
    "        \"pattern\":[\n",
    "            {\n",
    "                \"LEMMA\": {\"IN\": [\"very\", \"much\", \"so\", \"good\", \"bad\"]}\n",
    "            },\n",
    "        ]\n",
    "    }\n",
    "]\n",
    "\n",
    "POLARITY_SCORE_DICT = {\n",
    "    \"very\": 1,\n",
    "    \"much\": 1,\n",
    "    \"so\": 1,\n",
    "    \"good\": 5,\n",
    "    \"bad\": -5,\n",
    "    \"happy\": 5,\n",
    "    \"awful\": -5,\n",
    "    \"awsome\": 5,\n",
    "    \"strange\": -5\n",
    "}\n",
    "\n",
    "TEXT1 = \"Got a letter as in the mail very last week so that said Dr. Goldberg is moving to Arizona to take a new position there in June. He will be missed very much. \\n\\nI think finding a new doctor in NYC that you actually like might almost be as awful as trying to find a date!\""
   ]
  },
  {
   "cell_type": "code",
   "execution_count": 4,
   "id": "e0141c9b-72aa-4465-959c-3994738b1e62",
   "metadata": {},
   "outputs": [],
   "source": [
    "from spacy.language import Language\n",
    "from spacy.tokens import Doc\n",
    "\n",
    "def classify_polarity_scores(compound):\n",
    "    result = \"NEUTRAL\"\n",
    "    if compound > 0:\n",
    "        result = \"POSITIVE\"\n",
    "    else:\n",
    "        result = \"NEGATIVE\"\n",
    "    return result\n",
    "\n",
    "class PolarityComponent:\n",
    "    def __init__(self, nlp: Language):\n",
    "        # Register custom extension on the Doc\n",
    "        if not Doc.has_extension(\"polarity\"):\n",
    "            Doc.set_extension(\"polarity\", default=0.0)\n",
    "\n",
    "    def __call__(self, doc: Doc) -> Doc:\n",
    "        polarity = 0.0\n",
    "\n",
    "        for ent in doc.ents:\n",
    "            lemma = ent.lemma_\n",
    "            if lemma in POLARITY_SCORE_DICT:\n",
    "                polarity += POLARITY_SCORE_DICT[lemma]\n",
    "\n",
    "        doc._.polarity = polarity\n",
    "        return doc"
   ]
  },
  {
   "cell_type": "code",
   "execution_count": 5,
   "id": "a59d36e9-e61c-40db-8ec6-8922a8095d28",
   "metadata": {},
   "outputs": [],
   "source": [
    "from spacy.language import Language\n",
    "from spacy.tokens import Doc\n",
    "\n",
    "@Language.factory(\"polarity\")\n",
    "def create_polarity_component(nlp: Language, name: str):\n",
    "    return PolarityComponent(nlp)"
   ]
  },
  {
   "cell_type": "code",
   "execution_count": 6,
   "id": "7e649ab2-e1f7-4140-be66-961c2b37bba4",
   "metadata": {},
   "outputs": [
    {
     "data": {
      "text/plain": [
       "['tok2vec',\n",
       " 'tagger',\n",
       " 'parser',\n",
       " 'attribute_ruler',\n",
       " 'lemmatizer',\n",
       " 'ner',\n",
       " 'emotion_ruler',\n",
       " 'polarity']"
      ]
     },
     "execution_count": 6,
     "metadata": {},
     "output_type": "execute_result"
    }
   ],
   "source": [
    "import spacy\n",
    "\n",
    "nlp_custom = spacy.load(\"en_core_web_md\")\n",
    "\n",
    "ruler = nlp_custom.add_pipe(\"entity_ruler\", name=\"emotion_ruler\", after=\"ner\")\n",
    "ruler.add_patterns(PATTERNS)\n",
    "ruler = nlp_custom.add_pipe(\"polarity\", after=\"emotion_ruler\")\n",
    "\n",
    "nlp_custom.pipe_names"
   ]
  },
  {
   "cell_type": "code",
   "execution_count": 9,
   "id": "da25b839-5e9a-4cc9-b039-9470ee085826",
   "metadata": {},
   "outputs": [
    {
     "data": {
      "text/html": [
       "<span class=\"tex2jax_ignore\"><div class=\"entities\" style=\"line-height: 2.5; direction: ltr\">Got a letter as in the mail \n",
       "<mark class=\"entity\" style=\"background: #ddd; padding: 0.45em 0.6em; margin: 0 0.25em; line-height: 1; border-radius: 0.35em;\">\n",
       "    very\n",
       "    <span style=\"font-size: 0.8em; font-weight: bold; line-height: 1; border-radius: 0.35em; vertical-align: middle; margin-left: 0.5rem\">EMOTION_WORD</span>\n",
       "</mark>\n",
       " \n",
       "<mark class=\"entity\" style=\"background: #bfe1d9; padding: 0.45em 0.6em; margin: 0 0.25em; line-height: 1; border-radius: 0.35em;\">\n",
       "    last week\n",
       "    <span style=\"font-size: 0.8em; font-weight: bold; line-height: 1; border-radius: 0.35em; vertical-align: middle; margin-left: 0.5rem\">DATE</span>\n",
       "</mark>\n",
       " \n",
       "<mark class=\"entity\" style=\"background: #ddd; padding: 0.45em 0.6em; margin: 0 0.25em; line-height: 1; border-radius: 0.35em;\">\n",
       "    so\n",
       "    <span style=\"font-size: 0.8em; font-weight: bold; line-height: 1; border-radius: 0.35em; vertical-align: middle; margin-left: 0.5rem\">EMOTION_WORD</span>\n",
       "</mark>\n",
       " that said Dr. \n",
       "<mark class=\"entity\" style=\"background: #aa9cfc; padding: 0.45em 0.6em; margin: 0 0.25em; line-height: 1; border-radius: 0.35em;\">\n",
       "    Goldberg\n",
       "    <span style=\"font-size: 0.8em; font-weight: bold; line-height: 1; border-radius: 0.35em; vertical-align: middle; margin-left: 0.5rem\">PERSON</span>\n",
       "</mark>\n",
       " is moving to \n",
       "<mark class=\"entity\" style=\"background: #feca74; padding: 0.45em 0.6em; margin: 0 0.25em; line-height: 1; border-radius: 0.35em;\">\n",
       "    Arizona\n",
       "    <span style=\"font-size: 0.8em; font-weight: bold; line-height: 1; border-radius: 0.35em; vertical-align: middle; margin-left: 0.5rem\">GPE</span>\n",
       "</mark>\n",
       " to take a new position there in \n",
       "<mark class=\"entity\" style=\"background: #bfe1d9; padding: 0.45em 0.6em; margin: 0 0.25em; line-height: 1; border-radius: 0.35em;\">\n",
       "    June\n",
       "    <span style=\"font-size: 0.8em; font-weight: bold; line-height: 1; border-radius: 0.35em; vertical-align: middle; margin-left: 0.5rem\">DATE</span>\n",
       "</mark>\n",
       ". He will be missed \n",
       "<mark class=\"entity\" style=\"background: #ddd; padding: 0.45em 0.6em; margin: 0 0.25em; line-height: 1; border-radius: 0.35em;\">\n",
       "    very\n",
       "    <span style=\"font-size: 0.8em; font-weight: bold; line-height: 1; border-radius: 0.35em; vertical-align: middle; margin-left: 0.5rem\">EMOTION_WORD</span>\n",
       "</mark>\n",
       " \n",
       "<mark class=\"entity\" style=\"background: #ddd; padding: 0.45em 0.6em; margin: 0 0.25em; line-height: 1; border-radius: 0.35em;\">\n",
       "    much\n",
       "    <span style=\"font-size: 0.8em; font-weight: bold; line-height: 1; border-radius: 0.35em; vertical-align: middle; margin-left: 0.5rem\">EMOTION_WORD</span>\n",
       "</mark>\n",
       ". <br><br>I think finding a new doctor in \n",
       "<mark class=\"entity\" style=\"background: #feca74; padding: 0.45em 0.6em; margin: 0 0.25em; line-height: 1; border-radius: 0.35em;\">\n",
       "    NYC\n",
       "    <span style=\"font-size: 0.8em; font-weight: bold; line-height: 1; border-radius: 0.35em; vertical-align: middle; margin-left: 0.5rem\">GPE</span>\n",
       "</mark>\n",
       " that you actually like might almost be as awful as trying to find a date!</div></span>"
      ],
      "text/plain": [
       "<IPython.core.display.HTML object>"
      ]
     },
     "metadata": {},
     "output_type": "display_data"
    }
   ],
   "source": [
    "from spacy import displacy\n",
    "\n",
    "def demo_emotion_ruler(text):\n",
    "    doc = nlp_custom(text)\n",
    "    displacy.render(doc, style=\"ent\")\n",
    "\n",
    "demo_emotion_ruler(TEXT1)"
   ]
  },
  {
   "cell_type": "code",
   "execution_count": 12,
   "id": "bc8c8683-f964-4866-8b70-ecc078ad6d70",
   "metadata": {},
   "outputs": [
    {
     "name": "stdout",
     "output_type": "stream",
     "text": [
      "CPU times: user 18.9 s, sys: 1.08 s, total: 20 s\n",
      "Wall time: 40.8 s\n"
     ]
    }
   ],
   "source": [
    "%%time\n",
    "\n",
    "nlp_docs = list(nlp_custom.pipe(TEXTS, n_process=4))"
   ]
  },
  {
   "cell_type": "code",
   "execution_count": 19,
   "id": "43ddf9f9-d6bd-44c7-8d67-66759c6c9cd9",
   "metadata": {},
   "outputs": [
    {
     "name": "stdout",
     "output_type": "stream",
     "text": [
      "Polarity: 'POSITIVE',\n",
      "Text:\n",
      "dr. goldberg offers everything i look for in a general practitioner.  he's nice and easy to talk to without being patronizing; he's always on time in seeing his patients; he's affiliated with a top-notch hospital (nyu) which my parents have explained to me is very important in case something happens and you need surgery; and you can get referrals to see specialists without having to see him first.  really, what more do you need?  i'm sitting here trying to think of any complaints i have about him, but i'm really drawing a blank.\n",
      "\n",
      "Polarity: 'POSITIVE',\n",
      "Text:\n",
      "Unfortunately, the frustration of being Dr. Goldberg's patient is a repeat of the experience I've had with so many other doctors in NYC -- good doctor, terrible staff.  It seems that his staff simply never answers the phone.  It usually takes 2 hours of repeated calling to get an answer.  Who has time for that or wants to deal with it?  I have run into this problem with many other doctors and I just don't get it.  You have office workers, you have patients with medical needs, why isn't anyone answering the phone?  It's incomprehensible and not work the aggravation.  It's with regret that I feel that I have to give Dr. Goldberg 2 stars.\n",
      "\n",
      "Polarity: 'POSITIVE',\n",
      "Text:\n",
      "Been going to Dr. Goldberg for over 10 years. I think I was one of his 1st patients when he started at MHMG. He's been great over the years and is really all about the big picture. It is because of him, not my now former gyn Dr. Markoff, that I found out I have fibroids. He explores all options with you and is very patient and understanding. He doesn't judge and asks all the right questions. Very thorough and wants to be kept in the loop on every aspect of your medical health and your life.\n",
      "\n",
      "Polarity: 'POSITIVE',\n",
      "Text:\n",
      "Got a letter in the mail last week that said Dr. Goldberg is moving to Arizona to take a new position there in June.  He will be missed very much.  \\n\\nI think finding a new doctor in NYC that you actually like might almost be as awful as trying to find a date!\n",
      "\n",
      "Polarity: 'NEGATIVE',\n",
      "Text:\n",
      "I don't know what Dr. Goldberg was like before  moving to Arizona, but let me tell you, STAY AWAY from this doctor and this office. I was going to Dr. Johnson before he left and Goldberg took over when Johnson left. He is not a caring doctor. He is only interested in the co-pay and having you come in for medication refills every month. He will not give refills and could less about patients's financial situations. Trying to get your 90 days mail away pharmacy prescriptions through this guy is a joke. And to make matters even worse, his office staff is incompetent. 90% of the time when you call the office, they'll put you through to a voice mail, that NO ONE ever answers or returns your call. Both my adult children and husband have decided to leave this practice after experiencing such frustration. The entire office has an attitude like they are doing you a favor. Give me a break! Stay away from this doc and the practice. You deserve better and they will not be there when you really need them. I have never felt compelled to write a bad review about anyone until I met this pathetic excuse for a doctor who is all about the money.\n",
      "\n"
     ]
    }
   ],
   "source": [
    "for i in nlp_docs[:5]:\n",
    "    polarity_score = i._.polarity\n",
    "    polarity = classify_polarity_scores(polarity_score)\n",
    "    text = i.text\n",
    "\n",
    "    print(f\"Polarity: '{polarity}',\\nText:\\n{text}\\n\")"
   ]
  }
 ],
 "metadata": {
  "kernelspec": {
   "display_name": "Python 3 (ipykernel)",
   "language": "python",
   "name": "python3"
  },
  "language_info": {
   "codemirror_mode": {
    "name": "ipython",
    "version": 3
   },
   "file_extension": ".py",
   "mimetype": "text/x-python",
   "name": "python",
   "nbconvert_exporter": "python",
   "pygments_lexer": "ipython3",
   "version": "3.10.12"
  }
 },
 "nbformat": 4,
 "nbformat_minor": 5
}
