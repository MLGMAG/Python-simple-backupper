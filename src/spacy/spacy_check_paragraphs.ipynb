{
 "cells": [
  {
   "cell_type": "code",
   "execution_count": 1,
   "id": "28e765f7-a272-43da-a052-3fbab2f80429",
   "metadata": {},
   "outputs": [],
   "source": [
    "from pyarrow.parquet import ParquetFile\n",
    "import pyarrow as pa \n",
    "\n",
    "ROWS_COUNT = 10_000\n",
    "\n",
    "INPUT_DATA = \"./resources/train-00000-of-00001.parquet\"\n",
    "\n",
    "pf = ParquetFile(INPUT_DATA) \n",
    "parquet_rows = next(pf.iter_batches(batch_size = ROWS_COUNT))\n",
    "\n",
    "data_df = pa.Table.from_batches([parquet_rows]).to_pandas() "
   ]
  },
  {
   "cell_type": "code",
   "execution_count": 2,
   "id": "7aa82cee-1c3b-4894-bd3a-4140168d84ab",
   "metadata": {},
   "outputs": [
    {
     "data": {
      "text/html": [
       "<div>\n",
       "<style scoped>\n",
       "    .dataframe tbody tr th:only-of-type {\n",
       "        vertical-align: middle;\n",
       "    }\n",
       "\n",
       "    .dataframe tbody tr th {\n",
       "        vertical-align: top;\n",
       "    }\n",
       "\n",
       "    .dataframe thead th {\n",
       "        text-align: right;\n",
       "    }\n",
       "</style>\n",
       "<table border=\"1\" class=\"dataframe\">\n",
       "  <thead>\n",
       "    <tr style=\"text-align: right;\">\n",
       "      <th></th>\n",
       "      <th>label</th>\n",
       "      <th>text</th>\n",
       "    </tr>\n",
       "  </thead>\n",
       "  <tbody>\n",
       "    <tr>\n",
       "      <th>0</th>\n",
       "      <td>4</td>\n",
       "      <td>dr. goldberg offers everything i look for in a...</td>\n",
       "    </tr>\n",
       "    <tr>\n",
       "      <th>1</th>\n",
       "      <td>1</td>\n",
       "      <td>Unfortunately, the frustration of being Dr. Go...</td>\n",
       "    </tr>\n",
       "    <tr>\n",
       "      <th>2</th>\n",
       "      <td>3</td>\n",
       "      <td>Been going to Dr. Goldberg for over 10 years. ...</td>\n",
       "    </tr>\n",
       "    <tr>\n",
       "      <th>3</th>\n",
       "      <td>3</td>\n",
       "      <td>Got a letter in the mail last week that said D...</td>\n",
       "    </tr>\n",
       "    <tr>\n",
       "      <th>4</th>\n",
       "      <td>0</td>\n",
       "      <td>I don't know what Dr. Goldberg was like before...</td>\n",
       "    </tr>\n",
       "  </tbody>\n",
       "</table>\n",
       "</div>"
      ],
      "text/plain": [
       "   label                                               text\n",
       "0      4  dr. goldberg offers everything i look for in a...\n",
       "1      1  Unfortunately, the frustration of being Dr. Go...\n",
       "2      3  Been going to Dr. Goldberg for over 10 years. ...\n",
       "3      3  Got a letter in the mail last week that said D...\n",
       "4      0  I don't know what Dr. Goldberg was like before..."
      ]
     },
     "execution_count": 2,
     "metadata": {},
     "output_type": "execute_result"
    }
   ],
   "source": [
    "data_df.head()"
   ]
  },
  {
   "cell_type": "code",
   "execution_count": 3,
   "id": "b1260cc0-d88d-489c-bc84-534436907842",
   "metadata": {},
   "outputs": [],
   "source": [
    "import spacy\n",
    "nlp = spacy.load(\"en_core_web_md\")"
   ]
  },
  {
   "cell_type": "code",
   "execution_count": 4,
   "id": "e01dce04-2f73-486b-80b7-833ef5a96a2e",
   "metadata": {},
   "outputs": [
    {
     "name": "stdout",
     "output_type": "stream",
     "text": [
      "pharagraph 1\n",
      "pharagraph 2\n",
      "pharagraph 3\n"
     ]
    }
   ],
   "source": [
    "TEXT1 = \"\\n\\n\\n\\n  pharagraph 1   \\n\\n\\n\\n\\npharagraph 2\\npharagraph 3\\n\\n\"\n",
    "\n",
    "def sanitize_text(text):\n",
    "    text = text.strip()\n",
    "    text = text.replace('\\\\n\\\\r', '\\n')\n",
    "    text = text.replace('\\\\n', '\\n')\n",
    "    text = text.replace('\\\\\\'', '\\'')\n",
    "    text = text.replace('\\\\\"', '\"')\n",
    "    return text.strip()\n",
    "\n",
    "def get_paragraphs(document):\n",
    "    start = 0\n",
    "\n",
    "    for token in document:\n",
    "        if token.is_space and token.text.count(\"\\n\") >= 1:\n",
    "            yield document[start:token.i]\n",
    "            start = token.i + 1\n",
    "    yield document[start:]\n",
    "\n",
    "def demo_get_paragraphs():\n",
    "    text1 = sanitize_text(TEXT1)\n",
    "    text1_doc = nlp(text1)\n",
    "    \n",
    "    for pharagraph in get_paragraphs(text1_doc):\n",
    "        print(pharagraph)\n",
    "\n",
    "demo_get_paragraphs()"
   ]
  },
  {
   "cell_type": "code",
   "execution_count": 5,
   "id": "92062c03-8b3f-430a-967d-d4cb6b623e91",
   "metadata": {},
   "outputs": [
    {
     "name": "stdout",
     "output_type": "stream",
     "text": [
      "False\n"
     ]
    }
   ],
   "source": [
    "PHARAGRAPH1 = \"asdsdad\"\n",
    "PHARAGRAPH2 = \"   asdsdad\"\n",
    "PHARAGRAPH3 = \"1asdsdad\"\n",
    "\n",
    "def starts_not_letter(pharahraph_doc):\n",
    "    first_token = pharahraph_doc[0]\n",
    "    first_token_char = first_token.text[0]\n",
    "    return not first_token_char.isalpha()\n",
    "\n",
    "def demo_starts_not_letter(pharagraph):\n",
    "    paragraph_doc = nlp(pharagraph)\n",
    "    result = starts_not_letter(paragraph_doc)\n",
    "    print(result)\n",
    "\n",
    "demo_starts_not_letter(PHARAGRAPH1)"
   ]
  },
  {
   "cell_type": "code",
   "execution_count": null,
   "id": "2357bf16-4621-4e82-9efd-f2a19285e495",
   "metadata": {},
   "outputs": [],
   "source": [
    "pharagraphs_without_letter = []\n",
    "\n",
    "for text in data_df['text'].values:\n",
    "    sanitized_text = sanitize_text(text)\n",
    "    text_doc = nlp(sanitized_text)\n",
    "    for pharagraph in get_paragraphs(text_doc):\n",
    "        if starts_not_letter(pharagraph):\n",
    "            pharagraphs_without_letter.append(pharagraph)"
   ]
  },
  {
   "cell_type": "code",
   "execution_count": null,
   "id": "2c00fb64-dfe6-48b5-b4c3-eca55ff03994",
   "metadata": {},
   "outputs": [],
   "source": [
    "for pharagraph in pharagraphs_without_letter[:5]:\n",
    "    print(pharagraph)"
   ]
  },
  {
   "cell_type": "code",
   "execution_count": null,
   "id": "1d558e07-00b2-4645-acd5-002cc200de75",
   "metadata": {},
   "outputs": [],
   "source": [
    "words = []\n",
    "for pharagraph in pharagraphs_without_letter:\n",
    "    words += [token.lemma_ for token in pharagraph if not token.is_stop and token.pos_ == 'NOUN']\n"
   ]
  },
  {
   "cell_type": "code",
   "execution_count": null,
   "id": "28fb1076-6754-4973-8462-a46a61681119",
   "metadata": {},
   "outputs": [],
   "source": [
    "import pandas as pd\n",
    "from collections import Counter\n",
    "\n",
    "word_freq = Counter(words)\n",
    "word_freq = Counter({k: c for k, c in word_freq.items() if c > 1})\n",
    "word_freq_df = pd.DataFrame(dict(word_freq).items(), columns = ['word', 'count']) \\\n",
    "    .sort_values(by=['count'], ascending=False) \\\n",
    "    .reset_index(drop=True)\n",
    "\n",
    "word_freq_df[:10]"
   ]
  },
  {
   "cell_type": "code",
   "execution_count": null,
   "id": "ece0ee77-c1e8-4c14-9797-0abb3e5898d9",
   "metadata": {},
   "outputs": [],
   "source": [
    "OUTPUT_FILE_PATH = \"./resources/pharagraph_word_frequency.tsv\"\n",
    "\n",
    "word_freq_df.to_csv(OUTPUT_FILE_PATH, sep='\\t', encoding='utf-8', index=False)"
   ]
  },
  {
   "cell_type": "code",
   "execution_count": null,
   "id": "d578eb61-032e-41c6-b624-fbe4740a8c74",
   "metadata": {},
   "outputs": [],
   "source": [
    "word_freq_df.shape"
   ]
  }
 ],
 "metadata": {
  "kernelspec": {
   "display_name": "Python 3 (ipykernel)",
   "language": "python",
   "name": "python3"
  },
  "language_info": {
   "codemirror_mode": {
    "name": "ipython",
    "version": 3
   },
   "file_extension": ".py",
   "mimetype": "text/x-python",
   "name": "python",
   "nbconvert_exporter": "python",
   "pygments_lexer": "ipython3",
   "version": "3.10.12"
  }
 },
 "nbformat": 4,
 "nbformat_minor": 5
}
